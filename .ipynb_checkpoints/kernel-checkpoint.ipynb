{
 "cells": [
  {
   "cell_type": "markdown",
   "metadata": {
    "_uuid": "8f7759c50e6593d0f3388865dda6a310700065e3"
   },
   "source": [
    "# **Manisa Celal Bayar Üniversitesi - Yazılım Mühendisliği**\n",
    "\n",
    "* Ezran Onur Bayantemur"
   ]
  },
  {
   "cell_type": "markdown",
   "metadata": {
    "_uuid": "adfee15d3e3642fa8c1574bb5ff0951826b481ea"
   },
   "source": [
    "## DÜNYA İNTİHAR İSTATİSTİĞİ VERİ ANALİZİ\n",
    "İnceleyeceğimiz veri seti 141 ülkede 1979-2015 yılları arası intihar eden kişi sayısını cinsiyete ve yaş gruplarına göre dağıtarak oluşturulmuştur.\n",
    "Amacımız öncelikle bu veri setini görselleştirerek veri analizi yapmak ve makine öğrenmesi algoritmalarını kullanarak gelecek yıllardaki intihar sayısının tahminidir."
   ]
  },
  {
   "cell_type": "markdown",
   "metadata": {
    "_uuid": "f9b2d4fdcd29d4b589579780fcb53dc0ca712834"
   },
   "source": [
    "> # **VERİ ÖN İŞLEME**"
   ]
  },
  {
   "cell_type": "code",
   "execution_count": null,
   "metadata": {
    "_cell_guid": "b1076dfc-b9ad-4769-8c92-a6c4dae69d19",
    "_kg_hide-output": false,
    "_uuid": "8f2839f25d086af736a60e9eeb907d3b93b6e0e5"
   },
   "outputs": [],
   "source": [
    "# Öncelikle kütüphanelerimizi çağırıyoruz.\n",
    "import pandas as pd # Verimizi okumak ve gruplandırmak için: pandas\n",
    "import numpy as np  # Verimiz üzerinde sayısal işlemler yapmak için: numpy\n",
    "# Verimizi görselleştirmek için: matplot ve seaborn\n",
    "import matplotlib.pyplot as plt \n",
    "import seaborn as sns"
   ]
  },
  {
   "cell_type": "code",
   "execution_count": null,
   "metadata": {
    "_uuid": "b5f0222d0d48c45b01c3858698db35780575786a"
   },
   "outputs": [],
   "source": [
    "# Kullanacağımız verimizi okuyoruz.\n",
    "df = pd.read_csv(\"../input/who_suicide_statistics.csv\")"
   ]
  },
  {
   "cell_type": "code",
   "execution_count": null,
   "metadata": {
    "_cell_guid": "79c7e3d0-c299-4dcb-8224-4455121ee9b0",
    "_uuid": "d629ff2d2480ee46fbb7e2d37f6b5fab8052498a"
   },
   "outputs": [],
   "source": [
    "# Veri setimizin ilk 10 değerini inceliyoruz\n",
    "df.head(10)"
   ]
  },
  {
   "cell_type": "code",
   "execution_count": null,
   "metadata": {
    "_uuid": "385f0d5cefea76dc9f1622bd832e29182a000398"
   },
   "outputs": [],
   "source": [
    "# Veri setimizin son 5 değerini inceliyoruz\n",
    "df.tail()"
   ]
  },
  {
   "cell_type": "code",
   "execution_count": null,
   "metadata": {
    "_uuid": "689282d9377df535c7e63d7b6abf250fd057cdf9"
   },
   "outputs": [],
   "source": [
    "# Veri setimizin satır sayısına ve öz nitelik adedine bakıyoruz.\n",
    "df.shape"
   ]
  },
  {
   "cell_type": "code",
   "execution_count": null,
   "metadata": {
    "_uuid": "4c144d3e6cbe667ea8f62419fcd45a43c12c33ce"
   },
   "outputs": [],
   "source": [
    "# Kolonlarımızı ve veri tiplerimizi gözlemliyoruz.\n",
    "df.info()"
   ]
  },
  {
   "cell_type": "code",
   "execution_count": null,
   "metadata": {
    "_uuid": "b7bec08ca3b597beb5b3f15a5b8f81a14283e596"
   },
   "outputs": [],
   "source": [
    "# Sayısal değerlerimize bakıyoruz.\n",
    "df.describe() "
   ]
  },
  {
   "cell_type": "code",
   "execution_count": null,
   "metadata": {
    "_uuid": "2c518766378aa2a46b1f253a6d21303f3369e76e"
   },
   "outputs": [],
   "source": [
    "# Verimizin korelasyon durumunu gözlemliyoruz. \n",
    "sns.heatmap(df.corr())"
   ]
  },
  {
   "cell_type": "markdown",
   "metadata": {
    "_uuid": "77c855d8ac300d6f19e31266302aaf03cbe72e87"
   },
   "source": [
    "**Verimizin korelasyon durumundan şu an ki haliyle fikir edinemiyoruz. Çünkü sayısal kolonlar iki adet ve net bir bilgi döndürmemekte.**\n"
   ]
  },
  {
   "cell_type": "code",
   "execution_count": null,
   "metadata": {
    "_uuid": "a4f92d1276140d487fb514858306df080e2b3ceb"
   },
   "outputs": [],
   "source": [
    "# Verimizdeki toplam boş değer sayısını kontrol ediyoruz.\n",
    "df.isnull().sum()"
   ]
  },
  {
   "cell_type": "markdown",
   "metadata": {
    "_uuid": "135d1a264c214d1c0fe0640b76b6b7ddcb9c414f"
   },
   "source": [
    "Veri setimizi incelediğimizde kayıp verilerimizin belirli ülkelere, belirli yıllara göre dağılımlı olduğunu görüyoruz.\n",
    "<br>Örneğin Bolivya ya da Tunus ülkesine ait hiç bir popülasyon verisi mevcut değil, haliyle bu verileri elden girmek *(popülasyonun ortalama verisini ya da mod verisini girmek)* yanıltıcı olacaktır.\n",
    "<br>Aynı şekilde intihar sayısı niteliği çoğunlukla yıllara göre gruplanmış durumda. Örneğin Uruguay'ın 1979 yılına, Ukrayna'nın 1983 yılına, Arnavutluk'un 1985-86, 1990-91 ve 2011-15 yılları arasına ait intihar verileri kayıp durumda. Bundan ötürü diğer yıllara ait intihar verilerini girmek de veri bütünlüğünü bozacaktır. \n",
    " <br>**Sonuç itibariyle kayıp verileri toptan temizlemek toplam veri adedine kıyasla çok büyük bir kayıp olmayacağından en mantıklı çözüm olacaktır.**\n",
    "\n",
    "Şu anlık yapacağımız görselleştirmelerde popülasyon kolonunu dahil etmeyeceğiz ve popülasyonun kayıp veri sayısı 5460 iken intihar sayısı kolonunun kayıp veri sayısı 2256.\n",
    "<br>Haliyle öncelikle popülasyon kolonunu çıkartıp daha sonra kayıp veri temizliği yaparsak çok daha az verimiz silinecektir.\n"
   ]
  },
  {
   "cell_type": "code",
   "execution_count": null,
   "metadata": {
    "_uuid": "85e4c3cd3204565d880968f00e3f276c9a92af22",
    "scrolled": true
   },
   "outputs": [],
   "source": [
    "# Popülasyon kolonumuzu kaldırıyoruz. Gerektiği görselleştirme kısımlarında geri çağıracağız.\n",
    "df.drop([\"population\"], axis=1, inplace=True)"
   ]
  },
  {
   "cell_type": "code",
   "execution_count": null,
   "metadata": {
    "_uuid": "42f24b1df887b801ffb4d2626933172a597ba82a"
   },
   "outputs": [],
   "source": [
    "# Herhangi bir özniteliği boş olan verileri temizliyoruz\n",
    "df = df.dropna(axis=0, how=\"any\")"
   ]
  },
  {
   "cell_type": "code",
   "execution_count": null,
   "metadata": {
    "_uuid": "33c6b9759e3193545d17fa91e58342540d0ec2c0"
   },
   "outputs": [],
   "source": [
    "# Boş değerlerimizin kalıp kalmadığını gözlemleyelim\n",
    "df.isnull().sum()"
   ]
  },
  {
   "cell_type": "markdown",
   "metadata": {
    "_uuid": "d5df0ee8188be226293e03739f7f746f2e2aaffc"
   },
   "source": [
    "> # **VERİ GÖRSELLEŞTİRME**"
   ]
  },
  {
   "cell_type": "markdown",
   "metadata": {
    "_uuid": "c5704b000604f6543f31671ef90dc857e6bdc144"
   },
   "source": [
    "* **Yıllara göre dünyadaki intihar olay sıklığını gözlemleyelim.**"
   ]
  },
  {
   "cell_type": "code",
   "execution_count": null,
   "metadata": {
    "_uuid": "dd2811d440ba31f3e3c2a9c952457b4bb7819b0b"
   },
   "outputs": [],
   "source": [
    "# Kullanacağımız kolonları ayırıyoruz.\n",
    "years = df.iloc[:, 1].values.reshape(-1,1)\n",
    "suicides = df.iloc[:, 4].values.reshape(-1,1)"
   ]
  },
  {
   "cell_type": "code",
   "execution_count": null,
   "metadata": {
    "_uuid": "16c78790219937c996e17a0b6e28d2a3851280f0"
   },
   "outputs": [],
   "source": [
    "# Histogram (frekans grafiği) ile intihar olayının en çok tekrar ettiği yılları görebiliriz.\n",
    "plt.figure(figsize=(20,10))\n",
    "plt.hist(years, bins=50)\n",
    "plt.xlabel(\"Yıllar\")\n",
    "plt.ylabel(\"İntihar Sıklığı\")"
   ]
  },
  {
   "cell_type": "markdown",
   "metadata": {
    "_uuid": "381d78688e7f42603d61439eedc0a1cfb97c8045"
   },
   "source": [
    "**Gözle görünür oranda 2000'li yıllardan sonra intihar olaylarının sıklaştığını söyleyebiliriz.**"
   ]
  },
  {
   "cell_type": "markdown",
   "metadata": {
    "_uuid": "74a533af175fd8b43ed1a4ab4573c5918136c319"
   },
   "source": [
    "* **Ülkelerin toplam intihar sayılarını gözlemleyelim.**"
   ]
  },
  {
   "cell_type": "code",
   "execution_count": null,
   "metadata": {
    "_uuid": "fa20318e36300c6d97f5ad13ad24f6d50c770323"
   },
   "outputs": [],
   "source": [
    "# Bütün ülkeleri intihar sayılarına göre gruplandırıyoruz ve dataframe'imizi düzenliyoruz\n",
    "country_suicides = pd.DataFrame(df.groupby(\"country\")[\"suicides_no\"].sum())\n",
    "country_suicides['country'] = country_suicides.index\n",
    "country_suicides = country_suicides.reset_index(drop = True)\n",
    "\n",
    "country_suicides.head()"
   ]
  },
  {
   "cell_type": "code",
   "execution_count": null,
   "metadata": {
    "_uuid": "d40bd5e469e7eb7661a89c1e4e0d9c8c5e3cc578"
   },
   "outputs": [],
   "source": [
    "# Ülkeleri intihar sayılarına göre düzenleyip en çok ilk 50 ülkemizi ayırıyoruz\n",
    "sorted_data = country_suicides.sort_values(\"suicides_no\", ascending=False)\n",
    "sorted_data = sorted_data.iloc[:50,:]"
   ]
  },
  {
   "cell_type": "markdown",
   "metadata": {
    "_uuid": "4a7a411b59a79617862c83cc4ce9ac4db3426cf1"
   },
   "source": [
    "*(Toplamda 141 ülkemiz mevcut ve bu görselleştirmek için çok fazla)*"
   ]
  },
  {
   "cell_type": "code",
   "execution_count": null,
   "metadata": {
    "_uuid": "38ab7e5ecd010235b4882c49392f0bac3abf6721"
   },
   "outputs": [],
   "source": [
    "# Görselimizi oluşturuyoruz\n",
    "plt.figure(figsize=(20,10))\n",
    "sns.barplot(x=sorted_data.country, y=sorted_data.suicides_no)\n",
    "plt.xticks(rotation= 90)\n",
    "plt.xlabel('Ülkeler')\n",
    "plt.ylabel('Toplam İntihar Sayısı')\n",
    "plt.title('İNTİHARLAR')"
   ]
  },
  {
   "cell_type": "markdown",
   "metadata": {
    "_uuid": "7e8c7f17208e87e6640020fd28cfd6a03e80d513"
   },
   "source": [
    "**İntihar sayısının en yüksek olduğu başlıca ülkelerin Rusya, Amerika, Japonya ve Fransa gibi popülasyonun da yüksek olduğu ülkeler olduğunu gözlemliyoruz. Fakat bu veri intihar/popülasyon oranından ziyade kalabalık ülkelerin (doğal olarak) intihar sayısının da yüksek olacağından dominant bir veri dağılımına sebep olmaktadır.**\n",
    "<br>\n",
    "<br>**İlerleyen safhalarda intihar/popülasyon oranını da inceleyeceğiz**"
   ]
  },
  {
   "cell_type": "markdown",
   "metadata": {
    "_uuid": "2cc59e6f0875958f5083407ceadc82dd961e45f2"
   },
   "source": [
    "* **Ülkelerin toplam intihar sayısını ve kadın erkek yüzdesini hesaplayalım**"
   ]
  },
  {
   "cell_type": "code",
   "execution_count": null,
   "metadata": {
    "_uuid": "a7eebc26d9b170fb46cdafc884fc4cf3a4bbe605"
   },
   "outputs": [],
   "source": [
    "# Ülkeleri isim olarak ayırıyoruz\n",
    "unique = pd.DataFrame(df.country.unique(), columns = [\"countries\"])\n",
    "unique.sample(10)"
   ]
  },
  {
   "cell_type": "code",
   "execution_count": null,
   "metadata": {
    "_uuid": "8c87eb0780c328c08447163db3c00adcdca8a8e2"
   },
   "outputs": [],
   "source": [
    "# Toplayacağımız verileri saklayacağımız veri tablosunu oluşturuyoruz.\n",
    "suicides_by_gender = pd.DataFrame(columns=['country', # ülke\n",
    "                                           'total s', # total suicide:  toplam intihar sayısı\n",
    "                                           'per f',   # percent female: kadın intiharları yüzdesi\n",
    "                                           'per m',]) # percent male:   erkek intiharları yüzdesi"
   ]
  },
  {
   "cell_type": "markdown",
   "metadata": {
    "_uuid": "e46542db52548dd52bc8371e01b30fb268ab2f5e"
   },
   "source": [
    "Burada yukarıda ayırdığımız ülke isimlerini bir döngüde dondürecek ve ana veri setimizde eşleşen ülkelerin her intihar sayılarını kadın erkek olarak ayıracak ve yüzdelerini hesaplayacağız.\n"
   ]
  },
  {
   "cell_type": "code",
   "execution_count": null,
   "metadata": {
    "_uuid": "c97353b65cc5007eb0fe0060b3cba48a421d27aa"
   },
   "outputs": [],
   "source": [
    "for index, rows in unique.iterrows():\n",
    "   test_df = df[df[\"country\"] == rows[\"countries\"]]\n",
    "   suicides_by_gender = suicides_by_gender.append({'country': rows[\"countries\"],\n",
    "        'total s' : df[df[\"country\"] == rows[\"countries\"]].suicides_no.sum(),\n",
    "        'per f': test_df[test_df[\"sex\"] == \"female\"].suicides_no.sum()/df[df[\"country\"] == rows[\"countries\"]].suicides_no.sum()*100,\n",
    "        'per m': test_df[test_df[\"sex\"] == \"male\"].suicides_no.sum()/df[df[\"country\"] == rows[\"countries\"]].suicides_no.sum()*100}, ignore_index=True)"
   ]
  },
  {
   "cell_type": "code",
   "execution_count": null,
   "metadata": {
    "_uuid": "275dbdb4e310551b719920f00777dba94aeb8f1a"
   },
   "outputs": [],
   "source": [
    "# Verimizdeki intihar sayısı baz alınarak aykırı verileri temizliyoruz.\n",
    "P = np.percentile(suicides_by_gender['total s'], [10, 100])\n",
    "suicides_by_gender = suicides_by_gender[(suicides_by_gender['total s'] > P[0]) & (suicides_by_gender['total s'] <= P[1])]"
   ]
  },
  {
   "cell_type": "code",
   "execution_count": null,
   "metadata": {
    "_uuid": "ecd6e4205c127a95b6060d8a120c1b5c44f4e154"
   },
   "outputs": [],
   "source": [
    "# Oluşan veri tablomuzu inceleyelim\n",
    "suicides_by_gender.head()"
   ]
  },
  {
   "cell_type": "code",
   "execution_count": null,
   "metadata": {
    "_uuid": "54c19d524a802301e774153d9736031228d24976"
   },
   "outputs": [],
   "source": [
    "# Verimizi kadın intiharları yüzdesine göre sıralayalım.\n",
    "suicides_by_gender = suicides_by_gender.sort_values(\"per f\", ascending=False)\n",
    "suicides_by_gender.head(10)"
   ]
  },
  {
   "cell_type": "code",
   "execution_count": null,
   "metadata": {
    "_uuid": "f5a0bd2f9e6a7f681554f5c29376ce89413c5ef1"
   },
   "outputs": [],
   "source": [
    "# Verimizi erkek intihar yüzdesine göre sıralayalım.\n",
    "suicides_by_gender = suicides_by_gender.sort_values(\"per m\", ascending=False)\n",
    "suicides_by_gender.head(10)"
   ]
  },
  {
   "cell_type": "markdown",
   "metadata": {
    "_uuid": "48937ae36f5bf92d352857b0e70e2b50caee3e79"
   },
   "source": [
    "* **Ülkelerin intihar sayılarını yaş aralıklarına göre gruplandıralım**"
   ]
  },
  {
   "cell_type": "code",
   "execution_count": null,
   "metadata": {
    "_uuid": "ff9dccedbe55c97e1bca697aa95bb5f2c09f48d8"
   },
   "outputs": [],
   "source": [
    "# Ülke isimlerini \"unique\" içerisinde daha önceden kaydetmiştik.\n",
    "# Toplayacağımız verileri saklayacağımız veri tablosunu oluşturuyoruz.\n",
    "suicides_by_age = pd.DataFrame(columns=[\n",
    "    'country',   # ülke\n",
    "    'total s',   # total suicide: toplam intihar sayısı\n",
    "    'per 5-14',  # 5 ve 14 yaş arası kadın ve erkeklerin toplam yüzdesi\n",
    "    'per 15-24', # 15 ve 24 yaş arası kadın ve erkeklerin toplam yüzdesi\n",
    "    'per 25-34', # 25 ve 34 yaş arası kadın ve erkeklerin toplam yüzdesi\n",
    "    'per 35-54', # 35 ve 54 yaş arası kadın ve erkeklerin toplam yüzdesi\n",
    "    'per 55-74', # 55 ve 74 yaş arası kadın ve erkeklerin toplam yüzdesi\n",
    "    'per 75+'])  # 75 yaş ve üzeri kadın ve erkeklerin toplam yüzdesi"
   ]
  },
  {
   "cell_type": "code",
   "execution_count": null,
   "metadata": {
    "_uuid": "f4cb3e1b8152d6a1bbfd3568ab53c245dbc28477"
   },
   "outputs": [],
   "source": [
    "# Döngümüzle ana veri tablomuzdan eşleşen ülkelerin yaş aralıklarındaki intiharlar düzenleniyor.\n",
    "for index, rows in unique.iterrows():\n",
    "   test_df = df[df[\"country\"] == rows[\"countries\"]]\n",
    "   s = df[df[\"country\"] == rows[\"countries\"]].suicides_no.sum()\n",
    "   suicides_by_age = suicides_by_age.append({'country': rows[\"countries\"],\n",
    "        'total s': df[df[\"country\"] == rows[\"countries\"]].suicides_no.sum(),\n",
    "        'per 5-14': test_df[test_df[\"age\"] == \"5-14 years\"].suicides_no.sum()/s *100, \n",
    "        'per 15-24': test_df[test_df[\"age\"] == \"15-24 years\"].suicides_no.sum()/s*100, \n",
    "        'per 25-34': test_df[test_df[\"age\"] == \"25-34 years\"].suicides_no.sum()/s*100, \n",
    "        'per 35-54': test_df[test_df[\"age\"] == \"35-54 years\"].suicides_no.sum()/s*100, \n",
    "        'per 55-74': test_df[test_df[\"age\"] == \"55-74 years\"].suicides_no.sum()/s*100,\n",
    "        'per 75+': test_df[test_df[\"age\"] == \"75+ years\"].suicides_no.sum()/s*100}, ignore_index=True)"
   ]
  },
  {
   "cell_type": "code",
   "execution_count": null,
   "metadata": {
    "_uuid": "9fc3655354e6572059edbf845feffe1255f53e5c"
   },
   "outputs": [],
   "source": [
    "# Verimizdeki intihar sayısını göz önünde bulundurarak aykırı verileri temizliyoruz.\n",
    "P = np.percentile(suicides_by_age['total s'], [10, 100])\n",
    "suicides_by_age = suicides_by_age[(suicides_by_age['total s'] > P[0]) & (suicides_by_age['total s'] <= P[1])]"
   ]
  },
  {
   "cell_type": "code",
   "execution_count": null,
   "metadata": {
    "_uuid": "b55d9a9432f86cec0f0c2b374f10a4ca4fdac2e9"
   },
   "outputs": [],
   "source": [
    "# Oluşan veri tablomuzu inceleyelim\n",
    "suicides_by_age.head()"
   ]
  },
  {
   "cell_type": "code",
   "execution_count": null,
   "metadata": {
    "_uuid": "94a9e35fc2c7d9a8dcb6c6e19f2e4f4b882091c0"
   },
   "outputs": [],
   "source": [
    "# Verimizi 5-14 yüzdesine göre sıralayalım.\n",
    "suicides_by_age = suicides_by_age.sort_values(\"per 5-14\", ascending=False)\n",
    "suicides_by_age.head(10)"
   ]
  },
  {
   "cell_type": "code",
   "execution_count": null,
   "metadata": {
    "_uuid": "17660643909d5fa4ce869a2404cb60bd90fff8a5"
   },
   "outputs": [],
   "source": [
    "# Verimizi 15-24 yüzdesine göre sıralayalım.\n",
    "suicides_by_age = suicides_by_age.sort_values(\"per 15-24\", ascending=False)\n",
    "suicides_by_age.head(10)\n"
   ]
  },
  {
   "cell_type": "code",
   "execution_count": null,
   "metadata": {
    "_uuid": "cada193fd9c207d11ef807a7dc1ffc42bad7f3cd"
   },
   "outputs": [],
   "source": [
    "# Verimizi 25-34 yüzdesine göre sıralayalım.\n",
    "suicides_by_age = suicides_by_age.sort_values(\"per 25-34\", ascending=False)\n",
    "suicides_by_age.head(10)"
   ]
  },
  {
   "cell_type": "code",
   "execution_count": null,
   "metadata": {
    "_uuid": "8d50e9d22cc612556b5b895cae574dc4b7196a6d"
   },
   "outputs": [],
   "source": [
    "# Verimizi 35-54 yüzdesine göre sıralayalım.\n",
    "suicides_by_age = suicides_by_age.sort_values(\"per 35-54\", ascending=False)\n",
    "suicides_by_age.head(10)"
   ]
  },
  {
   "cell_type": "code",
   "execution_count": null,
   "metadata": {
    "_uuid": "d65ecd1b8c2ae5222b49123a1406e4768b62a1ce"
   },
   "outputs": [],
   "source": [
    "# Verimizi 55-74 yüzdesine göre sıralayalım.\n",
    "suicides_by_age = suicides_by_age.sort_values(\"per 55-74\", ascending=False)\n",
    "suicides_by_age.head(10)"
   ]
  },
  {
   "cell_type": "code",
   "execution_count": null,
   "metadata": {
    "_uuid": "27f8d0ccbe4184c13c3f86768125014b2ef1895b"
   },
   "outputs": [],
   "source": [
    "# Verimizi 75+ yüzdesine göre sıralayalım.\n",
    "suicides_by_age = suicides_by_age.sort_values(\"per 75+\", ascending=False)\n",
    "suicides_by_age.head(10)"
   ]
  },
  {
   "cell_type": "markdown",
   "metadata": {
    "_uuid": "4c0cfffd658253814ce2db28e951ab27ad45ce26"
   },
   "source": [
    "*  **Ülkelerin intihar / popülasyon oranlarını hesaplayalım.**\n",
    "<br>\n",
    " <br>**Bunun için ülkelerin toplam intihar sayısını popülasyonlarının ortalamasına bölüp yüzdesini hesaplayacağız.**\n",
    " <br>(*Önceki verimizde veri kaybının yüksek olmaması için popülasyon öz niteliğini çıkartmıştık. Tekrar çağırıp eksik verilerimizi temizliyoruz.*)\n"
   ]
  },
  {
   "cell_type": "code",
   "execution_count": null,
   "metadata": {
    "_uuid": "c211954ffa49690424fab800fe04c660c5f3ed0a"
   },
   "outputs": [],
   "source": [
    "df2 = pd.read_csv(\"../input/who_suicide_statistics.csv\")\n",
    "df2 = df2.dropna(axis=0, how=\"any\")\n",
    "df2.isnull().sum()"
   ]
  },
  {
   "cell_type": "markdown",
   "metadata": {
    "_uuid": "f1321f093c129169ede1be44a3249bcdf501dcf6"
   },
   "source": [
    "***Ülke isimlerini \"unique\" içerisinde daha önceden kaydetmiştik fakat veri setimizden önceki veri setine kıyasla daha farklı ve daha fazla veri sildik. Bundan ötürü tekrar ülke isimlerini çekmemiz gerek***"
   ]
  },
  {
   "cell_type": "code",
   "execution_count": null,
   "metadata": {
    "_uuid": "e91ff487ce768d9e5f5e615d72819c06e70425bd"
   },
   "outputs": [],
   "source": [
    "unique = pd.DataFrame(df2.country.unique(), columns = [\"countries\"])\n",
    "unique.sample(10)"
   ]
  },
  {
   "cell_type": "code",
   "execution_count": null,
   "metadata": {
    "_uuid": "b853dd573bfeebd97d205ff3a2efbda44e9e4701"
   },
   "outputs": [],
   "source": [
    "# Toplayacağımız verileri saklayacağımız veri tablosunu oluşturuyoruz.\n",
    "suicides_by_pop = pd.DataFrame(columns=['country', \n",
    "                                           'total s', \n",
    "                                           'mean pop',\n",
    "                                           'per s'])"
   ]
  },
  {
   "cell_type": "code",
   "execution_count": null,
   "metadata": {
    "_uuid": "e2fa0c88010cf6c62d4881065bcf32f003bfe333"
   },
   "outputs": [],
   "source": [
    "# Her bir ülkeyi gezip intiharların toplamını popülasyonun ortalamasını alıyor, oluşturduğumuz dataframe'e ekliyoruz.\n",
    "for index, rows in unique.iterrows():\n",
    "   test_df = df2[df2[\"country\"] == rows[\"countries\"]]\n",
    "   suicides_by_pop = suicides_by_pop.append({\n",
    "        'country': rows[\"countries\"],\n",
    "        'total s' : test_df.suicides_no.sum(),\n",
    "        'mean pop': test_df.population.mean(),\n",
    "        'per s': test_df.suicides_no.sum()/test_df.population.mean()*100}, \n",
    "            ignore_index=True)"
   ]
  },
  {
   "cell_type": "code",
   "execution_count": null,
   "metadata": {
    "_uuid": "0ec3893a5509f8c3c01a313c3d820ff8307eb6d2"
   },
   "outputs": [],
   "source": [
    "# Aykırı verileri temizliyoruz.\n",
    "P = np.percentile(suicides_by_pop['per s'], [10, 100])\n",
    "suicides_by_pop = suicides_by_pop[(suicides_by_pop['per s'] > P[0]) & (suicides_by_pop['per s'] <= P[1])]"
   ]
  },
  {
   "cell_type": "code",
   "execution_count": null,
   "metadata": {
    "_uuid": "e12b5c69c90b124d52bc0bd0e7bece9015d1603e"
   },
   "outputs": [],
   "source": [
    "# Oluşan veri tablomuzu inceleyelim\n",
    "suicides_by_pop.head()"
   ]
  },
  {
   "cell_type": "code",
   "execution_count": null,
   "metadata": {
    "_uuid": "7f5de4e887c341069bcb383356477ed637078d5c"
   },
   "outputs": [],
   "source": [
    "# Verimizi intihar/popülasyon oran yüzdesine göre sıralayalım.\n",
    "suicides_by_pop = suicides_by_pop.sort_values(\"per s\", ascending=False)\n",
    "suicides_by_pop.head(10)"
   ]
  },
  {
   "cell_type": "markdown",
   "metadata": {
    "_uuid": "54e74a33d54eb46056203cad54bfcd6a145ec891"
   },
   "source": [
    "> # **VERİ MODELİ İŞLEME**"
   ]
  },
  {
   "cell_type": "markdown",
   "metadata": {
    "_uuid": "393ca3f89bdc02899329652192aaa9f6bbb22ee1"
   },
   "source": [
    "Bu bölümümüzde regresyon modelleri oluşturarak veri setimizde eğitimler uygulayacak ve belirlediğimiz öz niteliklere göre en iyi sonucu veren regresyon modelini saptayacağız."
   ]
  },
  {
   "cell_type": "markdown",
   "metadata": {
    "_uuid": "55b8beaa8058b680b110c26ee7694891f2ca8804"
   },
   "source": [
    "Deneyeceğimiz modellerin yıllara göre intihar sayısını tahmin etmesini bekleyeceğiz.\n",
    "\n",
    "* Linear Regression\n",
    "* Support Vector Regression\n",
    "* Desicion Tree Regression\n",
    "* Random Forest Regression\n",
    "* K-Nearest Neighbor Regression"
   ]
  },
  {
   "cell_type": "code",
   "execution_count": null,
   "metadata": {
    "_uuid": "cc3b3a84bcb8f4b89657d0fa1d0477e114265b6c"
   },
   "outputs": [],
   "source": [
    "# Regresyon modellerimizin başarısını ölçmek için r2 score fonksiyonunu kullanacağız.\n",
    "# Değer ne kadar 1'e yakınsa o kadar iyi sonuç alınmıştır demektir.\n",
    "from sklearn.metrics import r2_score"
   ]
  },
  {
   "cell_type": "markdown",
   "metadata": {
    "_uuid": "5bc0b840468f03a6bf4e5c622ec61fecacd2de12"
   },
   "source": [
    "**Eğitim ve test verisinde kullanacağımız verilerimizi hazırlıyoruz.**"
   ]
  },
  {
   "cell_type": "code",
   "execution_count": null,
   "metadata": {
    "_uuid": "a8878c8c215014799c156cb3654df4b639db0233"
   },
   "outputs": [],
   "source": [
    "# Yıllara göre intihar sayılarının toplamını grupluyoruz.\n",
    "analyze_df = pd.DataFrame(df.groupby(\"year\")[\"suicides_no\"].sum())"
   ]
  },
  {
   "cell_type": "code",
   "execution_count": null,
   "metadata": {
    "_uuid": "41347bf823bcadf81e2fecd5ae00e800abe854a9"
   },
   "outputs": [],
   "source": [
    "analyze_df.head()"
   ]
  },
  {
   "cell_type": "code",
   "execution_count": null,
   "metadata": {
    "_uuid": "bdae61b9a448e2beeffc912689353df831c74949"
   },
   "outputs": [],
   "source": [
    "analyze_df.tail()"
   ]
  },
  {
   "cell_type": "markdown",
   "metadata": {
    "_uuid": "318edbccc43db6b3348dfc129dd678ef5af1b6f6"
   },
   "source": [
    "**Verileri incelediğimizde 2016 yılının verisi hatalı olduğu için o yılı elimine ediyoruz.**"
   ]
  },
  {
   "cell_type": "code",
   "execution_count": null,
   "metadata": {
    "_uuid": "47ccd462d148780dea018dd118549e00822f4d64"
   },
   "outputs": [],
   "source": [
    "# Girdi değerlerine yılları, çıktı değerlerine intiharları atıyoruz. \n",
    "x = pd.DataFrame(analyze_df.index)\n",
    "y = analyze_df.iloc[:, 0]\n",
    "\n",
    "# 2016 yılını ve intihar değerini temizliyoruz.\n",
    "x = x.iloc[:-1, :].values.reshape(-1,1)\n",
    "y = analyze_df.iloc[:-1, 0].values.reshape(-1,1)"
   ]
  },
  {
   "cell_type": "markdown",
   "metadata": {
    "_uuid": "40414be885ae4b0d044a76f7463c4bf12d09b613"
   },
   "source": [
    "### Regresyon modellerini oluşturmaya hazırız."
   ]
  },
  {
   "cell_type": "markdown",
   "metadata": {
    "_uuid": "cc5a9efdf846496733b2de68c0ca1cacec7aaa70"
   },
   "source": [
    " İlk olarak **Polynomial Linear Regression** modelini uygulayacağız.\n",
    " <br>Bu modelde oluşturulacak fonksiyonu görselleştirmek için datayı train-test olarak bölmeyeceğiz.\n",
    "<br>** (Böldüğümüz taktirde fonksiyon eğrisini çizemeyecektir.)**"
   ]
  },
  {
   "cell_type": "markdown",
   "metadata": {
    "_uuid": "3595478bb3f227f4ed9151cb2a03bea7d76dba3e"
   },
   "source": [
    ">  ## **LINEAR REGRESSION**"
   ]
  },
  {
   "cell_type": "code",
   "execution_count": null,
   "metadata": {
    "_uuid": "3becc72bbcbb6122ef3d3087f7789bf2036c251d"
   },
   "outputs": [],
   "source": [
    "# Gerekli kütüphaneleri çağırıyoruz.\n",
    "from sklearn.linear_model import LinearRegression\n",
    "from sklearn.preprocessing import PolynomialFeatures\n",
    "\n",
    "# Modellerimizi oluşturuyoruz.\n",
    "lr = LinearRegression()\n",
    "\n",
    "# 4. dereceden bir fonksiyon kullanacağız.\n",
    "pf = PolynomialFeatures(degree=4)"
   ]
  },
  {
   "cell_type": "code",
   "execution_count": null,
   "metadata": {
    "_uuid": "156566f13190bf733691d5226665c6c872c96cb0"
   },
   "outputs": [],
   "source": [
    "# Öncelikle girdi değerlerimizi polinomal forma çeviriyoruz. Çünkü polinomal bir fonksiyon oluşturduysak o dereceden girdiler sağlamalıyız.\n",
    "x_pol = pf.fit_transform(x)"
   ]
  },
  {
   "cell_type": "code",
   "execution_count": null,
   "metadata": {
    "_uuid": "849da73905193262ea6985a0ae76ee1acb5648ff"
   },
   "outputs": [],
   "source": [
    "# Modelimizi eğitiyoruz\n",
    "lr.fit(x_pol, y)"
   ]
  },
  {
   "cell_type": "code",
   "execution_count": null,
   "metadata": {
    "_uuid": "59aeb2b6deedf9f74d0275bc4e88ce9eccc0cf7e"
   },
   "outputs": [],
   "source": [
    "# Modelimizi eğittik, şimdi ise test edeceğiz. Öncelikle test datamızı polinomal hale getiriyoruz.\n",
    "x_pol2 = pf.fit_transform(x)"
   ]
  },
  {
   "cell_type": "code",
   "execution_count": null,
   "metadata": {
    "_uuid": "a6da1bcb494e4bec460a767eb19d8882359575d0"
   },
   "outputs": [],
   "source": [
    "# Çevirdiğimiz test verisini modele gönderip tahmin edilen değerlerimizi göreceğiz.\n",
    "y_pred = lr.predict(x_pol2)"
   ]
  },
  {
   "cell_type": "code",
   "execution_count": null,
   "metadata": {
    "_uuid": "1380f68c2bb9a986838c8847b7a7128c5bd6937f"
   },
   "outputs": [],
   "source": [
    "# Orijinal değerler ile fonksiyonumuzun türettiği verileri kıyaslamak için görselleştirelim.\n",
    "plt.figure(figsize=(20,10))\n",
    "plt.scatter(x, y)\n",
    "plt.plot(x, y_pred, color=\"red\")\n",
    "plt.xlabel(\"Yıllar\")\n",
    "plt.ylabel(\"İntihar Sayıları\")"
   ]
  },
  {
   "cell_type": "code",
   "execution_count": null,
   "metadata": {
    "_uuid": "c91d295de29e8672b300cc5277ccc7c6ac8b1292"
   },
   "outputs": [],
   "source": [
    "# Regresyon score değerini gözlemleyelim\n",
    "r2_score(y, y_pred)"
   ]
  },
  {
   "cell_type": "markdown",
   "metadata": {
    "_uuid": "2ec74344641e590f8ffd31bacdd64f07de190c06"
   },
   "source": [
    "**Uygulayacağımız diğer modellerde datamızı train test olarak bölebiliriz.**"
   ]
  },
  {
   "cell_type": "code",
   "execution_count": null,
   "metadata": {
    "_uuid": "cbbbbb1ea6f46fca3f1fffc5186a331a5878839c"
   },
   "outputs": [],
   "source": [
    "from sklearn.model_selection import train_test_split\n",
    "x_train, x_test, y_train, y_test = train_test_split(x, y, test_size = 0.25, random_state = 0)"
   ]
  },
  {
   "cell_type": "markdown",
   "metadata": {
    "_uuid": "329901ea7a6476a6d0eed6ec8772043d38b251a5"
   },
   "source": [
    "Kullanacağımız diğer regresyon modellerinde girdi ve çıktı değerlerinin normalize edilmesi gerekmektedir. Bunun nedeni ise girdi ve çıktı değerlerinin sayısal farkının çok yüksek olma durumunda algoritmanın yanılmasına sebep olmasını önlemektir.\n",
    "<br>**Örneğin;** KNN modeli herhangi bir girdi değerinin sonucunu onun komşuluklarını baz alarak belirler. Komşuluk hesaplamalarında ise Pisagor denklemini kullanır.\n",
    "<br>Karesi alınacak kenarların herhangi birinin değeri 0-1 arasında bir değer ise *(örneğin x = 0.1, 0.3, 0.05 gibi değerlere sahipse)*, bu sayı karesi alındıkça küçülecek, diğer kenar 1'den büyükse de *(örneğin y = 1000, 2200, 50 000 gibi değerlere sahipse)*, karesi alındıkça büyüyecektir ve 1'den büyük kenar formül hesaplanmasında baskınlık yaratacak dolayısıyla da algoritmanın yanlış çalışmasına sebep olacaktır. Böyle bir durumu önlemek için değerlere normalizasyon işlemi uygulanır."
   ]
  },
  {
   "cell_type": "code",
   "execution_count": null,
   "metadata": {
    "_uuid": "dc7314c2aebfc590df036d4a233146e12e85f96b"
   },
   "outputs": [],
   "source": [
    "# Kullanacağımız modellerde girdi değerlerimize normalizasyon uygulamalıyız. Bunun için gerekli kütüphaneleri çağırıyoruz.\n",
    "from sklearn.preprocessing import StandardScaler\n",
    "# Girdi çıktı değerleri için ayrı birer scale modeli üretmeliyiz, çağırılan her model ancak normalize ettiği veri ölçütünü de-normalize edebilir.\n",
    "sc_x = StandardScaler()\n",
    "sc_y = StandardScaler()\n",
    "x_train = sc_x.fit_transform(x_train)\n",
    "y_train = sc_y.fit_transform(y_train)\n",
    "\n",
    "# Test edeceğimiz girdi değerlerini de normalize etmeliyiz.\n",
    "x_test = sc_x.transform(x_test)"
   ]
  },
  {
   "cell_type": "markdown",
   "metadata": {
    "_uuid": "f027de585d8ba1d667f249faec227ebd0ecc43fd"
   },
   "source": [
    "### Eğitim ve test değerlerimiz hazır."
   ]
  },
  {
   "cell_type": "markdown",
   "metadata": {
    "_uuid": "b5b93a45fd5df7ba1155d8f5b1e8634b2b4ec451"
   },
   "source": [
    ">  ## **SUPPORT VECTOR REGRESSION**"
   ]
  },
  {
   "cell_type": "code",
   "execution_count": null,
   "metadata": {
    "_uuid": "9ab24b6fb07af4d478364166e91aab9d54b9de97"
   },
   "outputs": [],
   "source": [
    "# SVR için gerekli kütüphanemizi çağırıyoruz\n",
    "from sklearn.svm import SVR"
   ]
  },
  {
   "cell_type": "markdown",
   "metadata": {
    "_uuid": "0b0945e056008aec84768906020d611a9f8b3aef"
   },
   "source": [
    "**SVR modeli için bir çok kernel seçeneğimiz mevcut. Sırasıyla 'rbf', 'linear', 'poly' ve 'sigmoid' kernellerini deneyip, r2_score değerlerini gözlemleyeceğiz.\n",
    "**"
   ]
  },
  {
   "cell_type": "code",
   "execution_count": null,
   "metadata": {
    "_uuid": "0090f9f02aabe8ee8f01e389ed42b86d46c6fb23"
   },
   "outputs": [],
   "source": [
    "# rbf\n",
    "model = SVR(kernel=\"rbf\")\n",
    "model.fit(x_train, y_train)\n",
    "y_pred_rbf = model.predict(x_test)\n",
    "# Normalize ederek eğittiğimiz veriler bize normalize edilmiş bir halde dönecektir. \n",
    "# Gerçek değerlerini görmek için de-normalize (inverse transform) etmemiz gerekmekte.\n",
    "y_pred_rbf = sc_y.inverse_transform(y_pred_rbf)"
   ]
  },
  {
   "cell_type": "code",
   "execution_count": null,
   "metadata": {
    "_uuid": "b47526f5c7f658b6e547cfb6b0b4bc834a558ec4"
   },
   "outputs": [],
   "source": [
    "# linear\n",
    "model = SVR(kernel=\"linear\")\n",
    "model.fit(x_train, y_train)\n",
    "y_pred_linear =  sc_y.inverse_transform(model.predict(x_test))"
   ]
  },
  {
   "cell_type": "code",
   "execution_count": null,
   "metadata": {
    "_uuid": "4dd4f030d74718f86c23e836215b35f181e65d5a"
   },
   "outputs": [],
   "source": [
    "# poly\n",
    "model = SVR(kernel=\"poly\")\n",
    "model.fit(x_train, y_train)\n",
    "y_pred_poly =  sc_y.inverse_transform(model.predict(x_test))"
   ]
  },
  {
   "cell_type": "code",
   "execution_count": null,
   "metadata": {
    "_uuid": "5b86db20dfbdd1fffebb2172e1ed7f5f45e86820"
   },
   "outputs": [],
   "source": [
    "# sigmoid\n",
    "model = SVR(kernel=\"sigmoid\")\n",
    "model.fit(x_train, y_train)\n",
    "y_pred_sgm =  sc_y.inverse_transform(model.predict(x_test))"
   ]
  },
  {
   "cell_type": "markdown",
   "metadata": {
    "_uuid": "735bfcc424f22ded11b56e299b56656262a373c0"
   },
   "source": [
    "**Çıktı değerlerini gözlemliyoruz.**"
   ]
  },
  {
   "cell_type": "code",
   "execution_count": null,
   "metadata": {
    "_uuid": "36b71e37ea99ba823711f59e0b55bce5ec8cef8b",
    "scrolled": true
   },
   "outputs": [],
   "source": [
    "print(r2_score(y_test, y_pred_rbf))\n",
    "print(r2_score(y_test, y_pred_linear))\n",
    "print(r2_score(y_test, y_pred_poly)) \n",
    "print(r2_score(y_test, y_pred_sgm)) "
   ]
  },
  {
   "cell_type": "markdown",
   "metadata": {
    "_uuid": "0bac497a140e89b5e601e1daa5f242348dda6db4"
   },
   "source": [
    "**En yüksek perfonması gösteren kernel RBF oluyor.**\n",
    "<br>**0.8887428684867584**\n"
   ]
  },
  {
   "cell_type": "markdown",
   "metadata": {
    "_uuid": "4920ccc6393ca9086de084c22bf2032ef8de1beb"
   },
   "source": [
    ">  ## **DESICION TREE REGRESSION**"
   ]
  },
  {
   "cell_type": "code",
   "execution_count": null,
   "metadata": {
    "_uuid": "ccf95c902e84db9b79336eeb15887523505a954c"
   },
   "outputs": [],
   "source": [
    "from sklearn.tree import DecisionTreeRegressor\n",
    "# Ağacımızın derinliğini 100 birim belirledik.\n",
    "model = DecisionTreeRegressor(max_depth = 100, random_state=0)\n",
    "model.fit(x_train, y_train)\n",
    "y_pred = sc_y.inverse_transform(model.predict(x_test))"
   ]
  },
  {
   "cell_type": "code",
   "execution_count": null,
   "metadata": {
    "_uuid": "b1ea4c1c6bf08846c89219bea0f59742164b4a57"
   },
   "outputs": [],
   "source": [
    "# Model score'umuzu kontrol ediyoruz.\n",
    "r2_score(y_test, y_pred)"
   ]
  },
  {
   "cell_type": "markdown",
   "metadata": {
    "_uuid": "e20e5397fa8a931b59352cbcd0d659d6fb517ac5"
   },
   "source": [
    "**Fakat veri setimiz çok büyük değil ve 100'den çok daha az bir değer de belki çok daha fazla perfonmans gösterebilir.\n",
    "<br>Hangi değerin daha uygun olduğunu bulmak için farklı bir yöntem deneyelim.**\n",
    "<br><br>**Döngümüz ağaç derinliğimizi 1'den 15'e kadar indirecek ve r2 score değeri score listemize eklenecek, böylelikle en uygun değeri saptayabileceğiz.**\n"
   ]
  },
  {
   "cell_type": "code",
   "execution_count": null,
   "metadata": {
    "_uuid": "729fc3562e605b20d523406fb27c52321d17f396"
   },
   "outputs": [],
   "source": [
    "score=[]\n",
    "for i in range(1, 15):\n",
    "    model = DecisionTreeRegressor(max_depth = i, random_state=0)\n",
    "    model.fit(x_train, y_train)\n",
    "    y_pred = sc_y.inverse_transform(model.predict(x_test))\n",
    "    score.append(r2_score(y_test, y_pred))"
   ]
  },
  {
   "cell_type": "code",
   "execution_count": null,
   "metadata": {
    "_uuid": "3693f838deeb794998428642cccc629727b734b3",
    "scrolled": true
   },
   "outputs": [],
   "source": [
    "# Score çıktılarımızı grafik üzerinde inceleyelim\n",
    "plt.figure(figsize=(20,10))\n",
    "plt.plot(range(1,15), score)\n",
    "plt.xlabel(\"Derinlik\")\n",
    "plt.ylabel(\"R2 Score\")"
   ]
  },
  {
   "cell_type": "markdown",
   "metadata": {
    "_uuid": "fffa0aa595e140854076a6d619915a2e87c483dc"
   },
   "source": [
    "**Tablomuzdan da görüleceği üzere en uygun derinlik seviyesi 4 ve r2_score değeri;<br>0.9200627081915808**"
   ]
  },
  {
   "cell_type": "markdown",
   "metadata": {
    "_uuid": "a544d2e5ee8d639ad755d72e51be4dbc1eb9660d"
   },
   "source": [
    ">  ## **RANDOM FOREST REGRESSION**"
   ]
  },
  {
   "cell_type": "code",
   "execution_count": null,
   "metadata": {
    "_uuid": "1e33e0b751bad7097055ed187e91be156ecc5bbb"
   },
   "outputs": [],
   "source": [
    "from sklearn.ensemble import RandomForestRegressor\n",
    "\n",
    "# Desicion Tree yöntemimizde olduğu gibi en uygun dallanma sayısını görmek için döngü kuralım.\n",
    "score = []\n",
    "for i in range(1, 50):\n",
    "    model = RandomForestRegressor(n_estimators = i, random_state = 0)\n",
    "    model.fit(x_train, y_train)    \n",
    "    y_pred = sc_y.inverse_transform(model.predict(x_test))    \n",
    "    score.append(r2_score(y_test, y_pred))"
   ]
  },
  {
   "cell_type": "code",
   "execution_count": null,
   "metadata": {
    "_uuid": "c73a1d8f9e4c2900c64e1ede91c5c5ed4d000a22",
    "scrolled": true
   },
   "outputs": [],
   "source": [
    "# Score çıktılarımızı grafik üzerinde inceleyelim\n",
    "plt.figure(figsize=(20,10))\n",
    "plt.plot(range(1, 50), score)\n",
    "plt.xlabel(\"Dallanma Sayısı\")\n",
    "plt.ylabel(\"R2 Score\")\n",
    "plt.show()"
   ]
  },
  {
   "cell_type": "markdown",
   "metadata": {
    "_uuid": "738f42875d4b3db250eda96a1f3757ae02244646"
   },
   "source": [
    "**Grafiğimizden de görüleceği üzere en uygun dallanma seviyesi 12 ve r2_score değeri; <br> 0.9238047137712131**\n"
   ]
  },
  {
   "cell_type": "markdown",
   "metadata": {
    "_uuid": "5a62a26690c8440f176d461142740236c36c9d8d"
   },
   "source": [
    ">  ## **K-NEAREST NEIGHBOR REGRESSION**"
   ]
  },
  {
   "cell_type": "code",
   "execution_count": null,
   "metadata": {
    "_uuid": "5d559bdbcdf0db6553894985459a85839c4ffc01"
   },
   "outputs": [],
   "source": [
    "from sklearn.neighbors import KNeighborsRegressor\n",
    "\n",
    "# Komşu sayımızı bir döngü ile belirleyip score değerini grafik üzerinde gözlemleyebiliriz\n",
    "score = []\n",
    "for i in range(1, 27):\n",
    "    model = KNeighborsRegressor(n_neighbors = i) # n_neighbors = k\n",
    "    model.fit(x_train,y_train)\n",
    "    y_pred = sc_y.inverse_transform(model.predict(x_test))    \n",
    "    score.append(r2_score(y_test, y_pred))"
   ]
  },
  {
   "cell_type": "code",
   "execution_count": null,
   "metadata": {
    "_uuid": "021afb7bf10613829e30a463ce43c6ccefaa3f3c"
   },
   "outputs": [],
   "source": [
    "plt.figure(figsize=(20,10))\n",
    "plt.plot(range(1, 27), score)\n",
    "plt.xlabel(\"Komşuluk Sayısı\")\n",
    "plt.ylabel(\"R2 Score\")"
   ]
  },
  {
   "cell_type": "markdown",
   "metadata": {
    "_uuid": "bdd388bbfa13aae8a0fe0de9eeb43bea12eedfbc"
   },
   "source": [
    "**Sonuçlarımıza baktığımızda en uygun komşuluk değerinin 2 olduğunu ve r2_score değerinin; <br>0.9327148635745971 olduğunu görüyoruz.**\n"
   ]
  },
  {
   "cell_type": "markdown",
   "metadata": {
    "_uuid": "b8f1a2b410da201fdc4a9ebfc6313ad022fe4ad0"
   },
   "source": [
    "**Elimizdekilere göre incelediğimiz veri setine en uygun regresyon modelimiz 2 komşuluk değeri ile K-Nearest Neighbor regresyon modeli oluyor.**\n",
    "\n",
    "*  Linear Reg. : 0.8467048048511636 \n",
    "*  Support Vector Reg.: 0.8887428684867584\n",
    "*  Desicion Tree Reg.: 0.9200627081915808\n",
    "*  Random Forest Reg.: 0.9238047137712131\n",
    "*  K-Nearest Neighbor Reg.: **0.9327148635745971**"
   ]
  },
  {
   "cell_type": "code",
   "execution_count": null,
   "metadata": {
    "_uuid": "80ea832e4092c5710d4a28c38b26bd140d9c1ef8"
   },
   "outputs": [],
   "source": []
  },
  {
   "cell_type": "code",
   "execution_count": null,
   "metadata": {
    "_uuid": "25ece3380d2b3aa069b1cde2197a354c4024b2c2"
   },
   "outputs": [],
   "source": []
  }
 ],
 "metadata": {
  "kernelspec": {
   "display_name": "Python 3",
   "language": "python",
   "name": "python3"
  },
  "language_info": {
   "codemirror_mode": {
    "name": "ipython",
    "version": 3
   },
   "file_extension": ".py",
   "mimetype": "text/x-python",
   "name": "python",
   "nbconvert_exporter": "python",
   "pygments_lexer": "ipython3",
   "version": "3.6.5"
  }
 },
 "nbformat": 4,
 "nbformat_minor": 1
}
